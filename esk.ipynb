{
 "cells": [
  {
   "cell_type": "code",
   "execution_count": 41,
   "metadata": {},
   "outputs": [],
   "source": [
    "import requests\n",
    "import json\n",
    "import re\n",
    "from bs4 import BeautifulSoup as bs4\n",
    "from IPython.display import display, HTML\n",
    "import os\n"
   ]
  },
  {
   "cell_type": "code",
   "execution_count": 42,
   "metadata": {},
   "outputs": [],
   "source": [
    "client_id = os.environ.get(\"DEVIANTART_CLIENT_ID\")\n",
    "client_secret = os.environ.get(\"DEVIANTART_CLIENT_SECRET\")"
   ]
  },
  {
   "cell_type": "code",
   "execution_count": 43,
   "metadata": {},
   "outputs": [],
   "source": [
    "token_request = requests.post(\"https://www.deviantart.com/oauth2/token\", params= {\n",
    "    \"client_id\": client_id,\n",
    "    \"client_secret\": client_secret,\n",
    "    \"grant_type\": \"client_credentials\"\n",
    "} )"
   ]
  },
  {
   "cell_type": "code",
   "execution_count": 44,
   "metadata": {},
   "outputs": [],
   "source": [
    "token = token_request.json()[\"access_token\"]"
   ]
  },
  {
   "cell_type": "code",
   "execution_count": 45,
   "metadata": {},
   "outputs": [],
   "source": [
    "esk_request = requests.get(\"https://www.deviantart.com/api/v1/oauth2/gallery/all\", \n",
    "headers={\n",
    "    'Authorization': 'Bearer {}'.format(token)\n",
    "    }, \n",
    "    params= {\n",
    "    \"username\": \"esk-masterlist\",\n",
    "    \"offset\": 250,\n",
    "    \"limit\": 24\n",
    "}).json()[\"results\"]"
   ]
  },
  {
   "cell_type": "code",
   "execution_count": 46,
   "metadata": {},
   "outputs": [
    {
     "name": "stdout",
     "output_type": "stream",
     "text": [
      "['50D852A7-7111-765D-7791-F16442AD9FB7', 'D95C613D-2A87-8539-5FCB-D434CF72EF13', 'A6E1DC2C-84ED-CF87-C8F0-45C5F2B4944C', '706D13C6-8AD1-9EF3-81E9-5295A2212B26', '93671489-9E2C-DC76-B595-DCFCCEEBB1AE', 'D5E62D64-729F-667B-4494-405D194C6436', '685CBC73-A17A-6F24-1E45-57C3B53396E4', '637981FA-4E5F-0F69-1588-CA33932021DF', 'C5E90B48-1077-F425-839D-8E6D3ABF4F4E', '595BBF5B-056C-77FD-206C-C95A3F803D02', 'BB5E44F9-0D95-9298-FC81-F55330EA725E', '8F8E12C4-2D59-3849-7E03-B04BC25D7D2C', '88C226BC-439E-890E-B1F8-1C2F564F354E', '1781BA25-EE3D-156E-FF33-B36C5949FD1D', '2CF161BE-8763-56E3-AB13-B4C302B6B49C', 'C6307457-11DE-3CD2-FF99-C1566191E4DA', 'AEFE9918-B6CB-A21B-217B-64D91CAE4544', 'C0B6CEBE-EAE7-43CD-CFEB-082A49B5AF49', '72C8A3DF-E66F-5960-C843-F53958CEBEE1', '86557745-8CAF-689C-4C78-A35867660DE3', '75176685-1F88-D48E-695D-249AE7B5A116', '2200D7E2-1383-4925-D7AB-3ED89FFFD108', '3AD83C89-1640-D48D-3D3B-416621938993', '7A2A7411-D544-7FBD-FE13-740D161E515C']\n"
     ]
    }
   ],
   "source": [
    "deviation_ids = [esk_request[i][\"deviationid\"] for i in range(0,24)]\n",
    "print(deviation_ids)"
   ]
  },
  {
   "cell_type": "code",
   "execution_count": 47,
   "metadata": {},
   "outputs": [],
   "source": [
    "esk_request = requests.post(\"https://www.deviantart.com/api/v1/oauth2/deviation/metadata\", \n",
    "    data={\n",
    "        \"deviationids[]\": deviation_ids\n",
    "    },\n",
    "    headers={\n",
    "        'Authorization': 'Bearer {}'.format(token)\n",
    "    }).json()[\"metadata\"]"
   ]
  },
  {
   "cell_type": "code",
   "execution_count": 113,
   "metadata": {},
   "outputs": [],
   "source": [
    "def esk_record_from_web_response(raw_esk_record):\n",
    "    parsed_html = bs4(raw_esk_record[\"description\"])\n",
    "    bold_texts = parsed_html.body.select('div > b', class_=\"legacy-journal\")\n",
    "    for bold in bold_texts:\n",
    "        if re.fullmatch(r\"\\s+\", bold.string) != None:\n",
    "            continue\n",
    "        if bold.string == \"designer\":\n",
    "            continue\n",
    "        if bold.string == \"ownership\":\n",
    "            break\n",
    "        tmp = bold.next_sibling.strip()\n",
    "        if str.endswith(tmp, \".\") or str.endswith(tmp, \"(\"):\n",
    "            tmp = tmp[:-1].strip()\n",
    "        #if \"mutation\" in bold.string:    \n",
    "        tmp = re.sub(r\"\\(.*\\)\", \"\", tmp)\n",
    "        raw_esk_record[bold.string] = tmp\n",
    "    raw_esk_record.pop(\"description\", None)\n",
    "    owner_history = parsed_html.body.find('b', string= \"owner history\", recursive=True)\n",
    "    raw_esk_record[\"owner count\"] = len(owner_history.find_next_sibling(\"sub\").findChildren(\"br\")) + 1\n",
    "    return raw_esk_record\n"
   ]
  },
  {
   "cell_type": "code",
   "execution_count": 114,
   "metadata": {},
   "outputs": [
    {
     "name": "stdout",
     "output_type": "stream",
     "text": [
      "{'title': '5458', 'origin': 'trespasser', 'nature': 'spiteful', 'boundary': 'dusty road', 'size': 'fleeting', 'species': 'esk', 'collection': 'MYO', 'uncommon traits': 'false ears, socks, claws, tail-tip marking, spots', 'rare traits': 'unusual coverage', 'nature features': 'maidenstears', 'accessories': 'wooden toy', 'owner count': 1}\n",
      "{'title': '5457', 'origin': 'abnormal', 'nature': 'eerie', 'boundary': 'haunted mirror maze', 'size': 'uncanny', 'species': 'esk', 'collection': 'MYO', 'uncommon traits': 'claws, stripes, dark mask, unique markings', 'rare traits': 'manx, bright eye', 'nature features': 'thorny branches', 'mutations': 'animal trait , animated nature feature', 'original form': 'lost toy', 'accessories': 'stained veil', 'enchantments': 'mirrorscape', 'owner count': 1}\n",
      "{'title': '5456', 'origin': 'traveler', 'nature': 'delightful', 'boundary': 'coastal waters', 'size': 'perfect', 'species': 'esk', 'collection': 'MYO', 'uncommon traits': 'dark mask, spots, bold markings, eyespots, tail-tip marking', 'rare traits': 'none', 'nature features': 'sugar kelp', 'morph': 'ocean', 'familiars': '', 'owner count': 1}\n",
      "{'title': '5455', 'origin': 'abnormal', 'nature': 'whimsical', 'boundary': 'overgrown rockery', 'size': 'trifling', 'species': 'esk', 'collection': 'MYO', 'uncommon traits': 'flecks, eyespots, spots and stripes, bright markings, bold markings, false ears, cropped tail, socks, mid-tone eye', 'rare traits': 'overgrowth', 'nature features': 'ginko, clay pebbles', 'mutations': 'multiples ', 'original form': 'ginko tree', 'owner count': 1}\n",
      "{'title': '5454', 'origin': 'traveler', 'nature': 'solivagant', 'boundary': 'marginal sea', 'size': 'spindly', 'species': 'esk', 'collection': 'MYO', 'uncommon traits': 'bold markings, socks, chest marking', 'rare traits': 'glowing markings, flexible tail', 'nature features': 'vivianite', 'morph': 'ocean', 'familiars': 'rainbow runner', 'elementals': 'typhoon', 'owner count': 1}\n",
      "{'title': '5453', 'origin': 'abnormal', 'nature': 'consumptive', 'boundary': 'diseased woods', 'size': 'ghastly', 'species': 'esk', 'collection': 'MYO', 'uncommon traits': 'claws, spurs, dark mask, bold markings', 'rare traits': 'flexible tail', 'nature features': '', 'mutations': 'absence , color-shift', 'original form': 'desiccated insect', 'enchantments': 'cordyceps call', 'owner count': 1}\n",
      "{'title': '5452', 'origin': 'traveler', 'nature': 'demure', 'boundary': 'cultivated meadow', 'size': 'docile', 'species': 'esk', 'collection': 'MYO', 'uncommon traits': 'none', 'rare traits': 'none', 'nature features': 'butterfly weed', 'owner count': 1}\n",
      "{'title': '5451', 'origin': 'traveler', 'nature': 'cuddly', 'boundary': 'hiking trail', 'size': 'sneaky', 'species': 'esk', 'collection': 'MYO', 'uncommon traits': 'false ears, bright markings, unique markings, tail tip marking', 'rare traits': 'none', 'nature features': '', 'morph': 'polar', 'familiars': '', 'owner count': 1}\n",
      "{'title': '5450', 'origin': 'trespasser', 'nature': 'haphazard', 'boundary': 'alleyway', 'size': 'scappy', 'species': 'esk', 'collection': 'guest designs', 'uncommon traits': 'flecks, false ears', 'rare traits': 'solid color, bright eyes', 'nature features': 'sweet potato vine', 'accessories': 'broken pot', 'enchantments': 'auric whiskers', 'owner count': 2}\n",
      "{'title': '5449', 'origin': 'traveler', 'nature': 'resourceful', 'boundary': 'ancient floodplain', 'size': 'lumbering', 'species': 'esk', 'collection': 'guest designs', 'uncommon traits': 'spots, mid-tone eyes, bold markings', 'rare traits': 'none', 'nature features': 'limestone, yellow alyssum', 'morph': 'rock', 'familiars': 'green tree monitors ', 'owner count': 2}\n",
      "{'title': '5448', 'origin': 'traveler', 'nature': 'elegant', 'boundary': 'grand ballroom', 'size': 'elfin', 'species': 'esk', 'collection': 'guest designs', 'uncommon traits': 'spots, bold markings, blaze, cropped tail, flexible tail, tail tip marking, mid-tone eyes', 'rare traits': 'none', 'nature features': 'pink rose petals', 'enchantments': 'glorious display', 'owner count': 1}\n",
      "{'title': '5447', 'origin': 'traveler', 'nature': 'inquisitive', 'boundary': 'moss-veiled trail', 'size': 'petite', 'species': 'esk', 'collection': 'guest designs', 'uncommon traits': 'dark mask, stripes and spots, bold markings, socks, bright markings, socks', 'rare traits': 'bright eyes', 'unique traits': 'bioluminescence', 'nature features': 'pixies parasol', 'morph': 'fungi', 'owner count': 1}\n",
      "{'title': '5446', 'origin': 'traveler', 'nature': 'blithe', 'boundary': 'archipelago', 'size': 'grand', 'species': 'esk', 'collection': 'MYO', 'uncommon traits': 'none', 'rare traits': 'none', 'nature features': 'blueweed', 'owner count': 1}\n",
      "{'title': '5445', 'origin': 'trespasser', 'nature': 'sullen', 'boundary': 'riffle', 'size': 'sinuous', 'species': 'esk', 'collection': 'MYO', 'uncommon traits': 'flecks, claws', 'rare traits': 'solid color, bright eyes', 'nature features': 'river stones', 'elementals': 'aufeis', 'owner count': 1}\n",
      "{'title': '5444', 'origin': 'abnormal', 'nature': 'terse', 'boundary': 'snowy ridge', 'size': 'thick', 'species': 'esk', 'collection': 'guest designs', 'uncommon traits': 'socks, bold markings, unique markings, false ears, spots, stripes', 'rare traits': 'flexible tail', 'nature features': 'birch tree, pinecones', 'mutations': 'multiples , antlers, size-shift', 'accessories': 'beaded wraps', 'enchantments': 'calming drops', 'elementals': 'midnight sky', 'owner count': 1}\n",
      "{'title': '5443', 'origin': 'traveler', 'nature': 'sentimental', 'boundary': 'stony meadow', 'size': 'little', 'species': 'esk', 'collection': 'MYO', 'uncommon traits': 'none', 'rare traits': 'none', 'nature features': 'Samarian iris', 'owner count': 1}\n",
      "{'title': '5442', 'origin': 'traveler', 'nature': 'cuddly', 'boundary': 'fallen mountain tree', 'size': 'slinky', 'species': 'esk', 'collection': 'MYO', 'uncommon traits': 'chest marking, eyespots, false ears, socks, bold markings', 'rare traits': 'flexible tail, bright eyes', 'nature features': '', 'owner count': 1}\n",
      "{'title': '5441', 'origin': 'traveler', 'nature': 'kind', 'boundary': 'tranquil grove', 'size': 'adorable', 'species': 'esk', 'collection': 'MYO', 'uncommon traits': 'false ears, flecks, stripes, bright markings', 'rare traits': 'bright eyes, iridescence, flexible tail', 'nature features': 'bleeding heart', 'owner count': 1}\n",
      "{'title': '5440', 'origin': 'traveler', 'nature': 'quizzical', 'boundary': 'overgrown fire tower', 'size': 'disquieting', 'species': 'esk', 'collection': 'MYO', 'uncommon traits': 'eyespots, spots, claws, false ears, blaze', 'rare traits': 'none', 'nature features': 'Virginia wildrye', 'owner count': 1}\n",
      "{'title': '5439', 'origin': 'traveler', 'nature': 'peaceful', 'boundary': 'oceanic basin', 'size': 'broad', 'species': 'esk', 'collection': 'MYO', 'uncommon traits': 'eyespots, tail tip marking', 'rare traits': 'flexible tail', 'nature features': 'oolitic limestone', 'morph': 'rock', 'familiars': 'ghostly grenadier', 'elementals': 'downwelling current', 'owner count': 1}\n",
      "{'title': '5438', 'origin': 'abnormal', 'nature': 'confused', 'boundary': 'creek bed', 'size': 'slender', 'species': 'esk', 'collection': 'MYO', 'uncommon traits': 'bright markings, bold markings, false ears', 'rare traits': 'bright mask', 'nature features': '', 'mutations': 'long-bodied, absence ', 'original form': 'fossilized flower', 'owner count': 1}\n",
      "{'title': '5437', 'origin': 'trespasser', 'nature': 'friendly', 'boundary': 'quiet seaside town', 'size': 'leggy', 'species': 'esk', 'collection': 'MYO', 'uncommon traits': 'none', 'rare traits': 'none', 'nature features': 'Darwin’s barberry', 'owner count': 1}\n",
      "{'title': '5436', 'origin': 'traveler', 'nature': 'quiescent', 'boundary': 'hushed vale', 'size': 'subtle', 'species': 'esk', 'collection': 'MYO', 'uncommon traits': 'none', 'rare traits': 'none', 'nature features': 'black cohosh', 'owner count': 1}\n"
     ]
    }
   ],
   "source": [
    "esk_descriptions = [{\"title\": esk[\"title\"], \"description\": esk[\"description\"]} for esk in esk_request if (re.fullmatch( r\"\\d{3,4}\", esk[\"title\"]) != None)]\n",
    "for esk in esk_descriptions:\n",
    "    print(esk_record_from_web_response(esk))\n",
    "\n"
   ]
  },
  {
   "cell_type": "code",
   "execution_count": null,
   "metadata": {},
   "outputs": [],
   "source": []
  }
 ],
 "metadata": {
  "kernelspec": {
   "display_name": "Python 3.10.6 64-bit",
   "language": "python",
   "name": "python3"
  },
  "language_info": {
   "codemirror_mode": {
    "name": "ipython",
    "version": 3
   },
   "file_extension": ".py",
   "mimetype": "text/x-python",
   "name": "python",
   "nbconvert_exporter": "python",
   "pygments_lexer": "ipython3",
   "version": "3.10.6"
  },
  "orig_nbformat": 4,
  "vscode": {
   "interpreter": {
    "hash": "916dbcbb3f70747c44a77c7bcd40155683ae19c65e1c03b4aa3499c5328201f1"
   }
  }
 },
 "nbformat": 4,
 "nbformat_minor": 2
}
