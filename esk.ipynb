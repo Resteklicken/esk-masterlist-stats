{
 "cells": [
  {
   "cell_type": "code",
   "execution_count": 199,
   "metadata": {},
   "outputs": [],
   "source": [
    "import requests\n",
    "import json\n",
    "import re\n",
    "from bs4 import BeautifulSoup as bs4\n",
    "from IPython.display import display, HTML\n",
    "import os\n",
    "import pandas as pd"
   ]
  },
  {
   "cell_type": "code",
   "execution_count": 200,
   "metadata": {},
   "outputs": [],
   "source": [
    "client_id = os.environ.get(\"DEVIANTART_CLIENT_ID\")\n",
    "client_secret = os.environ.get(\"DEVIANTART_CLIENT_SECRET\")"
   ]
  },
  {
   "cell_type": "code",
   "execution_count": 201,
   "metadata": {},
   "outputs": [],
   "source": [
    "token_request = requests.post(\"https://www.deviantart.com/oauth2/token\", params= {\n",
    "    \"client_id\": client_id,\n",
    "    \"client_secret\": client_secret,\n",
    "    \"grant_type\": \"client_credentials\"\n",
    "} )"
   ]
  },
  {
   "cell_type": "code",
   "execution_count": 202,
   "metadata": {},
   "outputs": [],
   "source": [
    "token = token_request.json()[\"access_token\"]"
   ]
  },
  {
   "cell_type": "code",
   "execution_count": 203,
   "metadata": {},
   "outputs": [],
   "source": [
    "esk_request = requests.get(\"https://www.deviantart.com/api/v1/oauth2/gallery/all\", \n",
    "headers={\n",
    "    'Authorization': 'Bearer {}'.format(token)\n",
    "    }, \n",
    "    params= {\n",
    "    \"username\": \"esk-masterlist\",\n",
    "    \"offset\": 250,\n",
    "    \"limit\": 24\n",
    "}).json()[\"results\"]"
   ]
  },
  {
   "cell_type": "code",
   "execution_count": 204,
   "metadata": {},
   "outputs": [],
   "source": [
    "deviation_ids = [esk[\"deviationid\"] for esk in esk_request]"
   ]
  },
  {
   "cell_type": "code",
   "execution_count": 205,
   "metadata": {},
   "outputs": [],
   "source": [
    "esk_request = requests.post(\"https://www.deviantart.com/api/v1/oauth2/deviation/metadata\", \n",
    "    data={\n",
    "        \"deviationids[]\": deviation_ids\n",
    "    },\n",
    "    headers={\n",
    "        'Authorization': 'Bearer {}'.format(token)\n",
    "    }).json()[\"metadata\"]"
   ]
  },
  {
   "cell_type": "code",
   "execution_count": 206,
   "metadata": {},
   "outputs": [],
   "source": [
    "def esk_record_from_web_response(raw_esk_record):\n",
    "    parsed_html = bs4(raw_esk_record[\"description\"])\n",
    "    bold_texts = parsed_html.body.select('div > b', class_=\"legacy-journal\")\n",
    "    for bold in bold_texts:\n",
    "        if re.fullmatch(r\"\\s+\", bold.string) != None:\n",
    "            continue\n",
    "        if bold.string == \"designer\":\n",
    "            continue\n",
    "        if bold.string == \"ownership\":\n",
    "            break\n",
    "        tmp = bold.next_sibling.strip()\n",
    "        if str.endswith(tmp, \".\") or str.endswith(tmp, \"(\"):\n",
    "            tmp = tmp[:-1].strip()\n",
    "        #if \"mutation\" in bold.string:    \n",
    "        tmp = re.sub(r\"\\(.*\\)\", \"\", tmp)\n",
    "        raw_esk_record[bold.string] = tmp\n",
    "    raw_esk_record.pop(\"description\", None)\n",
    "    owner_history = parsed_html.body.find('b', string= \"owner history\", recursive=True)\n",
    "    raw_esk_record[\"owner count\"] = len(owner_history.find_next_sibling(\"sub\").findChildren(\"br\")) + 1\n",
    "    return raw_esk_record\n"
   ]
  },
  {
   "cell_type": "code",
   "execution_count": 207,
   "metadata": {},
   "outputs": [],
   "source": [
    "esk_descriptions = [{\"title\": esk[\"title\"], \"description\": esk[\"description\"]} for esk in esk_request if (re.fullmatch( r\"\\d{3,4}\", esk[\"title\"]) != None)]"
   ]
  },
  {
   "cell_type": "code",
   "execution_count": 208,
   "metadata": {},
   "outputs": [],
   "source": [
    "esk_list = []\n",
    "\n",
    "for esk in esk_descriptions:\n",
    "    esk_list.append(esk_record_from_web_response(esk))"
   ]
  },
  {
   "cell_type": "code",
   "execution_count": 209,
   "metadata": {},
   "outputs": [],
   "source": [
    "df = pd.DataFrame(esk_list)"
   ]
  }
 ],
 "metadata": {
  "kernelspec": {
   "display_name": "Python 3.10.6 64-bit",
   "language": "python",
   "name": "python3"
  },
  "language_info": {
   "codemirror_mode": {
    "name": "ipython",
    "version": 3
   },
   "file_extension": ".py",
   "mimetype": "text/x-python",
   "name": "python",
   "nbconvert_exporter": "python",
   "pygments_lexer": "ipython3",
   "version": "3.10.6"
  },
  "orig_nbformat": 4,
  "vscode": {
   "interpreter": {
    "hash": "916dbcbb3f70747c44a77c7bcd40155683ae19c65e1c03b4aa3499c5328201f1"
   }
  }
 },
 "nbformat": 4,
 "nbformat_minor": 2
}
