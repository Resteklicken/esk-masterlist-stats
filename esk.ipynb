{
 "cells": [
  {
   "cell_type": "code",
   "execution_count": 9,
   "metadata": {},
   "outputs": [],
   "source": [
    "import requests\n",
    "import json\n",
    "from bs4 import BeautifulSoup as bs4\n",
    "from IPython.display import display, HTML\n",
    "import os"
   ]
  },
  {
   "cell_type": "code",
   "execution_count": 10,
   "metadata": {},
   "outputs": [],
   "source": [
    "client_id = os.environ.get(\"DEVIANTART_CLIENT_ID\")\n",
    "client_secret = os.environ.get(\"DEVIANTART_CLIENT_SECRET\")"
   ]
  },
  {
   "cell_type": "code",
   "execution_count": 11,
   "metadata": {},
   "outputs": [],
   "source": [
    "token_request = requests.post(\"https://www.deviantart.com/oauth2/token\", params= {\n",
    "    \"client_id\": client_id,\n",
    "    \"client_secret\": client_secret,\n",
    "    \"grant_type\": \"client_credentials\"\n",
    "} )"
   ]
  },
  {
   "cell_type": "code",
   "execution_count": 12,
   "metadata": {},
   "outputs": [],
   "source": [
    "token = token_request.json()[\"access_token\"]"
   ]
  },
  {
   "cell_type": "code",
   "execution_count": 13,
   "metadata": {},
   "outputs": [],
   "source": [
    "esk_request = requests.get(\"https://www.deviantart.com/api/v1/oauth2/gallery/all\", \n",
    "headers={\n",
    "    'Authorization': 'Bearer {}'.format(token)\n",
    "    }, \n",
    "    params= {\n",
    "    \"username\": \"esk-masterlist\",\n",
    "    \"offset\": 250,\n",
    "    \"limit\": 24\n",
    "}).json()[\"results\"]"
   ]
  },
  {
   "cell_type": "code",
   "execution_count": 14,
   "metadata": {},
   "outputs": [
    {
     "name": "stdout",
     "output_type": "stream",
     "text": [
      "['50D852A7-7111-765D-7791-F16442AD9FB7', 'D95C613D-2A87-8539-5FCB-D434CF72EF13', 'A6E1DC2C-84ED-CF87-C8F0-45C5F2B4944C', '706D13C6-8AD1-9EF3-81E9-5295A2212B26', '93671489-9E2C-DC76-B595-DCFCCEEBB1AE', 'D5E62D64-729F-667B-4494-405D194C6436', '685CBC73-A17A-6F24-1E45-57C3B53396E4', '637981FA-4E5F-0F69-1588-CA33932021DF', 'C5E90B48-1077-F425-839D-8E6D3ABF4F4E', '595BBF5B-056C-77FD-206C-C95A3F803D02', 'BB5E44F9-0D95-9298-FC81-F55330EA725E', '8F8E12C4-2D59-3849-7E03-B04BC25D7D2C', '88C226BC-439E-890E-B1F8-1C2F564F354E', '1781BA25-EE3D-156E-FF33-B36C5949FD1D', '2CF161BE-8763-56E3-AB13-B4C302B6B49C', 'C6307457-11DE-3CD2-FF99-C1566191E4DA', 'AEFE9918-B6CB-A21B-217B-64D91CAE4544', 'C0B6CEBE-EAE7-43CD-CFEB-082A49B5AF49', '72C8A3DF-E66F-5960-C843-F53958CEBEE1', '86557745-8CAF-689C-4C78-A35867660DE3', '75176685-1F88-D48E-695D-249AE7B5A116', '2200D7E2-1383-4925-D7AB-3ED89FFFD108', '3AD83C89-1640-D48D-3D3B-416621938993', '7A2A7411-D544-7FBD-FE13-740D161E515C']\n"
     ]
    }
   ],
   "source": [
    "deviation_ids = [esk_request[i][\"deviationid\"] for i in range(0,24)]\n",
    "print(deviation_ids)"
   ]
  },
  {
   "cell_type": "code",
   "execution_count": 15,
   "metadata": {},
   "outputs": [],
   "source": [
    "esk_request = requests.post(\"https://www.deviantart.com/api/v1/oauth2/deviation/metadata\", \n",
    "    data={\n",
    "        \"deviationids[]\": deviation_ids\n",
    "    },\n",
    "    headers={\n",
    "        'Authorization': 'Bearer {}'.format(token)\n",
    "    }).json()[\"metadata\"]"
   ]
  },
  {
   "cell_type": "code",
   "execution_count": 16,
   "metadata": {},
   "outputs": [
    {
     "name": "stdout",
     "output_type": "stream",
     "text": [
      " trespasser . \n",
      " haphazard . \n",
      " alleyway . \n",
      " scappy\n",
      " esk . \n",
      " guest designs . \n",
      " \n",
      " flecks, false ears\n",
      " solid color, bright eyes\n",
      " sweet potato vine (\n",
      " broken pot\n",
      " auric whiskers\n",
      " \n",
      "<br/>\n",
      "2\n"
     ]
    }
   ],
   "source": [
    "esk_descriptions = [esk_request[i][\"description\"] for i in range(0, 24)]\n",
    "#print(esk_descriptions[5])\n",
    "parsed_html = bs4(esk_descriptions[9])\n",
    "bold_texts = parsed_html.body.find_all('b', recursive=True)\n",
    "for bold in bold_texts:\n",
    "    print(bold.next_sibling)\n",
    "#print(parsed_html.get_text())\n",
    "owner_history = parsed_html.body.find('b', string= \"owner history\", recursive=True)\n",
    "owners = len(owner_history.find_next_sibling(\"sub\").findChildren(\"br\")) + 1\n",
    "print(owners)"
   ]
  },
  {
   "cell_type": "code",
   "execution_count": null,
   "metadata": {},
   "outputs": [],
   "source": []
  }
 ],
 "metadata": {
  "kernelspec": {
   "display_name": "Python 3.10.6 64-bit",
   "language": "python",
   "name": "python3"
  },
  "language_info": {
   "codemirror_mode": {
    "name": "ipython",
    "version": 3
   },
   "file_extension": ".py",
   "mimetype": "text/x-python",
   "name": "python",
   "nbconvert_exporter": "python",
   "pygments_lexer": "ipython3",
   "version": "3.10.6"
  },
  "orig_nbformat": 4,
  "vscode": {
   "interpreter": {
    "hash": "916dbcbb3f70747c44a77c7bcd40155683ae19c65e1c03b4aa3499c5328201f1"
   }
  }
 },
 "nbformat": 4,
 "nbformat_minor": 2
}
