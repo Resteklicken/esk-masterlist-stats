{
 "cells": [
  {
   "cell_type": "code",
   "execution_count": null,
   "metadata": {},
   "outputs": [],
   "source": [
    "import requests\n",
    "import json\n",
    "import re\n",
    "from bs4 import BeautifulSoup as bs4\n",
    "from IPython.display import display, HTML\n",
    "import os\n",
    "import pandas as pd"
   ]
  },
  {
   "cell_type": "code",
   "execution_count": null,
   "metadata": {},
   "outputs": [],
   "source": [
    "client_id = os.environ.get(\"DEVIANTART_CLIENT_ID\")\n",
    "client_secret = os.environ.get(\"DEVIANTART_CLIENT_SECRET\")"
   ]
  },
  {
   "cell_type": "code",
   "execution_count": null,
   "metadata": {},
   "outputs": [],
   "source": [
    "token_request = requests.post(\"https://www.deviantart.com/oauth2/token\", params= {\n",
    "    \"client_id\": client_id,\n",
    "    \"client_secret\": client_secret,\n",
    "    \"grant_type\": \"client_credentials\"\n",
    "} )"
   ]
  },
  {
   "cell_type": "code",
   "execution_count": null,
   "metadata": {},
   "outputs": [],
   "source": [
    "token = token_request.json()[\"access_token\"]"
   ]
  },
  {
   "cell_type": "code",
   "execution_count": null,
   "metadata": {},
   "outputs": [],
   "source": [
    "offset = 0\n",
    "limit = 24\n",
    "esk_request = requests.get(\"https://www.deviantart.com/api/v1/oauth2/gallery/all\", \n",
    "headers={\n",
    "    'Authorization': 'Bearer {}'.format(token)\n",
    "    }, \n",
    "    params= {\n",
    "    \"username\": \"esk-masterlist\",\n",
    "    \"offset\": offset,\n",
    "    \"limit\": limit\n",
    "}).json()"
   ]
  },
  {
   "cell_type": "code",
   "execution_count": null,
   "metadata": {},
   "outputs": [],
   "source": [
    "esk_requests = [esk_request[\"results\"]]\n",
    "while esk_request[\"has_more\"]:\n",
    "    offset += limit\n",
    "    esk_request = requests.get(\"https://www.deviantart.com/api/v1/oauth2/gallery/all\", \n",
    "        headers={\n",
    "            'Authorization': 'Bearer {}'.format(token)\n",
    "            }, \n",
    "            params= {\n",
    "            \"username\": \"esk-masterlist\",\n",
    "            \"offset\": offset,\n",
    "            \"limit\": limit\n",
    "        }).json()\n",
    "    esk_requests.append(esk_request[\"results\"])"
   ]
  },
  {
   "cell_type": "code",
   "execution_count": null,
   "metadata": {},
   "outputs": [],
   "source": [
    "deviation_ids = [esk[\"deviationid\"] for esks in esk_requests for esk in esks]"
   ]
  },
  {
   "cell_type": "code",
   "execution_count": null,
   "metadata": {},
   "outputs": [],
   "source": [
    "start_index = 0\n",
    "end_index = 50\n",
    "esk_metadata_request = requests.post(\"https://www.deviantart.com/api/v1/oauth2/deviation/metadata\", \n",
    "    data={\n",
    "        \"deviationids[]\": deviation_ids[start_index:end_index]\n",
    "    },\n",
    "    headers={\n",
    "        'Authorization': 'Bearer {}'.format(token)\n",
    "    }).json()[\"metadata\"]\n"
   ]
  },
  {
   "cell_type": "code",
   "execution_count": null,
   "metadata": {},
   "outputs": [],
   "source": [
    "esk_metadata = [esk_metadata_request]\n",
    "while end_index < len(deviation_ids):\n",
    "    start_index += 50\n",
    "    end_index += 50\n",
    "    if end_index > len(deviation_ids):\n",
    "        end_index = len(deviation_ids)\n",
    "    esk_metadata_request = requests.post(\"https://www.deviantart.com/api/v1/oauth2/deviation/metadata\", \n",
    "    data={\n",
    "        \"deviationids[]\": deviation_ids[start_index:end_index]\n",
    "    },\n",
    "    headers={\n",
    "        'Authorization': 'Bearer {}'.format(token)\n",
    "    }).json()[\"metadata\"]\n",
    "    esk_metadata.append(esk_metadata_request)\n"
   ]
  },
  {
   "cell_type": "code",
   "execution_count": null,
   "metadata": {},
   "outputs": [],
   "source": [
    "print(esk_metadata[0])"
   ]
  },
  {
   "cell_type": "code",
   "execution_count": null,
   "metadata": {},
   "outputs": [],
   "source": [
    "\n",
    "def esk_record_from_web_response(raw_esk_record):\n",
    "    try:\n",
    "        parsed_html = bs4(raw_esk_record[\"description\"])\n",
    "        bold_texts = parsed_html.body.select('div > b', class_=\"legacy-journal\")\n",
    "        for bold in bold_texts:\n",
    "            tmp = \"\"\n",
    "            if bold != None:\n",
    "                if bold.string != None:\n",
    "                    if re.fullmatch(r\"\\s+\", bold.string) != None:\n",
    "                        continue\n",
    "                    if bold.string == \"designer\":\n",
    "                        continue\n",
    "                    if bold.string == \"ownership\":\n",
    "                        break\n",
    "                    if bold.string == \"past designs\":\n",
    "                        continue\n",
    "                    if bold.next_sibling != None:\n",
    "                        tmp = bold.next_sibling\n",
    "                        if \"username-with-symbol\" in tmp:\n",
    "                            continue\n",
    "                        if str.endswith(tmp, \".\") or str.endswith(tmp, \"(\"):\n",
    "                            tmp = tmp[:-1].strip()\n",
    "                        #if \"mutation\" in bold.string:    \n",
    "                        tmp = re.sub(r\"\\(.*\\)\", \"\", tmp)\n",
    "                        raw_esk_record[bold.string] = tmp\n",
    "        raw_esk_record.pop(\"description\", None)\n",
    "        owner_history = parsed_html.body.find('b', string= \"owner history\", recursive=True)\n",
    "        raw_esk_record[\"owner count\"] = len(owner_history.find_next_sibling(\"sub\").findChildren(\"br\")) + 1\n",
    "        return raw_esk_record\n",
    "    except:\n",
    "        return None\n"
   ]
  },
  {
   "cell_type": "code",
   "execution_count": null,
   "metadata": {},
   "outputs": [],
   "source": [
    "esk_descriptions = [{\"title\": esk[\"title\"], \"description\": esk[\"description\"]} for esks in esk_metadata for esk in esks if (re.fullmatch( r\"\\d{3,4}\", esk[\"title\"]) != None)]"
   ]
  },
  {
   "cell_type": "code",
   "execution_count": null,
   "metadata": {},
   "outputs": [],
   "source": [
    "esk_list = []\n",
    "\n",
    "for esk in esk_descriptions:\n",
    "    cleaned = esk_record_from_web_response(esk)\n",
    "    if cleaned != None:\n",
    "        esk_list.append(cleaned)"
   ]
  },
  {
   "cell_type": "code",
   "execution_count": null,
   "metadata": {},
   "outputs": [],
   "source": [
    "df = pd.DataFrame(esk_list)\n",
    "print(df)"
   ]
  }
 ],
 "metadata": {
  "kernelspec": {
   "display_name": "Python 3.10.6 64-bit",
   "language": "python",
   "name": "python3"
  },
  "language_info": {
   "codemirror_mode": {
    "name": "ipython",
    "version": 3
   },
   "file_extension": ".py",
   "mimetype": "text/x-python",
   "name": "python",
   "nbconvert_exporter": "python",
   "pygments_lexer": "ipython3",
   "version": "3.10.6"
  },
  "orig_nbformat": 4,
  "vscode": {
   "interpreter": {
    "hash": "916dbcbb3f70747c44a77c7bcd40155683ae19c65e1c03b4aa3499c5328201f1"
   }
  }
 },
 "nbformat": 4,
 "nbformat_minor": 2
}
